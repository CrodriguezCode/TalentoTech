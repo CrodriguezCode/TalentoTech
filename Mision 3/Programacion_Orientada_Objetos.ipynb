{
  "nbformat": 4,
  "nbformat_minor": 0,
  "metadata": {
    "colab": {
      "provenance": [],
      "authorship_tag": "ABX9TyOp+rgEjum+8NaEPUYR/+nU",
      "include_colab_link": true
    },
    "kernelspec": {
      "name": "python3",
      "display_name": "Python 3"
    },
    "language_info": {
      "name": "python"
    }
  },
  "cells": [
    {
      "cell_type": "markdown",
      "metadata": {
        "id": "view-in-github",
        "colab_type": "text"
      },
      "source": [
        "<a href=\"https://colab.research.google.com/github/CrodriguezCode/TalentoTech/blob/main/Programacion_Orientada_Objetos.ipynb\" target=\"_parent\"><img src=\"https://colab.research.google.com/assets/colab-badge.svg\" alt=\"Open In Colab\"/></a>"
      ]
    },
    {
      "cell_type": "markdown",
      "source": [
        "# Ejemplos Programacion Orientada a Objetos (POO)"
      ],
      "metadata": {
        "id": "JM67Lo-7pRPB"
      }
    },
    {
      "cell_type": "code",
      "execution_count": null,
      "metadata": {
        "colab": {
          "base_uri": "https://localhost:8080/"
        },
        "id": "jWTBIiRvoS9K",
        "outputId": "6663682b-936b-4e78-c102-60eb0a8ed5c5"
      },
      "outputs": [
        {
          "output_type": "stream",
          "name": "stdout",
          "text": [
            "Buddy está ladrando.\n"
          ]
        }
      ],
      "source": [
        "class Perro:\n",
        "  def __init__ (self, nombre, edad) :\n",
        "    self.nombre = nombre\n",
        "    self.edad = edad\n",
        "\n",
        "  def ladrar(self) :\n",
        "    print(f\"{self.nombre} está ladrando.\")\n",
        "\n",
        "mi_perro = Perro(\"Buddy\", 3)\n",
        "mi_perro.ladrar( )"
      ]
    },
    {
      "cell_type": "code",
      "source": [
        "class Persona:\n",
        "  def __init__(self, nombre, edad):\n",
        "    self.nombre = nombre\n",
        "    self.__edad = edad # CONSULTA: Se puede hacer una funcion get() para obtenerlo? (get.self(edad))\n",
        "\n",
        "persona = Persona(\"Juan\", 25)\n",
        "print(persona.nombre)\n",
        "print(persona.edad)"
      ],
      "metadata": {
        "colab": {
          "base_uri": "https://localhost:8080/",
          "height": 193
        },
        "id": "YTpVqtI4p5eW",
        "outputId": "ea06a65b-78a3-4ee4-9fef-f8e7f4982d04"
      },
      "execution_count": null,
      "outputs": [
        {
          "output_type": "stream",
          "name": "stdout",
          "text": [
            "Juan\n"
          ]
        },
        {
          "output_type": "error",
          "ename": "AttributeError",
          "evalue": "'Persona' object has no attribute '__edad'",
          "traceback": [
            "\u001b[0;31m---------------------------------------------------------------------------\u001b[0m",
            "\u001b[0;31mAttributeError\u001b[0m                            Traceback (most recent call last)",
            "\u001b[0;32m<ipython-input-14-15bdd26f0a3b>\u001b[0m in \u001b[0;36m<cell line: 8>\u001b[0;34m()\u001b[0m\n\u001b[1;32m      6\u001b[0m \u001b[0mpersona\u001b[0m \u001b[0;34m=\u001b[0m \u001b[0mPersona\u001b[0m\u001b[0;34m(\u001b[0m\u001b[0;34m\"Juan\"\u001b[0m\u001b[0;34m,\u001b[0m \u001b[0;36m25\u001b[0m\u001b[0;34m)\u001b[0m\u001b[0;34m\u001b[0m\u001b[0;34m\u001b[0m\u001b[0m\n\u001b[1;32m      7\u001b[0m \u001b[0mprint\u001b[0m\u001b[0;34m(\u001b[0m\u001b[0mpersona\u001b[0m\u001b[0;34m.\u001b[0m\u001b[0mnombre\u001b[0m\u001b[0;34m)\u001b[0m\u001b[0;34m\u001b[0m\u001b[0;34m\u001b[0m\u001b[0m\n\u001b[0;32m----> 8\u001b[0;31m \u001b[0mprint\u001b[0m\u001b[0;34m(\u001b[0m\u001b[0mpersona\u001b[0m\u001b[0;34m.\u001b[0m\u001b[0m__edad\u001b[0m\u001b[0;34m)\u001b[0m\u001b[0;34m\u001b[0m\u001b[0;34m\u001b[0m\u001b[0m\n\u001b[0m",
            "\u001b[0;31mAttributeError\u001b[0m: 'Persona' object has no attribute '__edad'"
          ]
        }
      ]
    },
    {
      "cell_type": "code",
      "source": [
        "class Rectangulo:\n",
        "  def __init__(self, base, altura):\n",
        "    self.base = base\n",
        "    self.altura = altura\n",
        "\n",
        "  def area(self):\n",
        "    return self.base * self.altura\n",
        "\n",
        "rectangulo = Rectangulo(5, 10)\n",
        "print(rectangulo.area())"
      ],
      "metadata": {
        "colab": {
          "base_uri": "https://localhost:8080/"
        },
        "id": "hRMwyM4-qLks",
        "outputId": "c84e73d9-df47-44a4-a441-86835cd110fa"
      },
      "execution_count": null,
      "outputs": [
        {
          "output_type": "stream",
          "name": "stdout",
          "text": [
            "50\n"
          ]
        }
      ]
    },
    {
      "cell_type": "code",
      "source": [
        "class Animal:\n",
        "  def __init__(self, nombre):\n",
        "    self.nombre = nombre\n",
        "\n",
        "class Perro(Animal):\n",
        "  def ladrar(self):\n",
        "    print(f\"{self.nombre} está ladrando.\")\n",
        "\n",
        "perro = Perro(\"Buddy\")\n",
        "print(perro.nombre)\n",
        "perro.ladrar()"
      ],
      "metadata": {
        "colab": {
          "base_uri": "https://localhost:8080/"
        },
        "id": "TlsM_KI9qXmD",
        "outputId": "11d728ff-b749-475f-dd5a-a336e5dfa9c1"
      },
      "execution_count": null,
      "outputs": [
        {
          "output_type": "stream",
          "name": "stdout",
          "text": [
            "Buddy\n",
            "Buddy está ladrando.\n"
          ]
        }
      ]
    },
    {
      "cell_type": "code",
      "source": [
        "class Gato(Animal):\n",
        "  def maullar(self):\n",
        "    print(f\"{self.nombre} está maullando.\")\n",
        "\n",
        "gato = Gato(\"Whiskers\")\n",
        "animales = [perro, gato]\n",
        "\n",
        "for animal in animales:\n",
        "  print(animal.nombre)"
      ],
      "metadata": {
        "colab": {
          "base_uri": "https://localhost:8080/"
        },
        "id": "0iwjHTHyr9mH",
        "outputId": "fa10e067-1ce8-446e-8046-07fa44f1d16d"
      },
      "execution_count": null,
      "outputs": [
        {
          "output_type": "stream",
          "name": "stdout",
          "text": [
            "Buddy\n",
            "Whiskers\n"
          ]
        }
      ]
    }
  ]
}
