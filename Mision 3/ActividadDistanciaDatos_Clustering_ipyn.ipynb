{
  "nbformat": 4,
  "nbformat_minor": 0,
  "metadata": {
    "colab": {
      "provenance": [],
      "authorship_tag": "ABX9TyPIc0L0m2nbD7O+5dpqF4Qo",
      "include_colab_link": true
    },
    "kernelspec": {
      "name": "python3",
      "display_name": "Python 3"
    },
    "language_info": {
      "name": "python"
    }
  },
  "cells": [
    {
      "cell_type": "markdown",
      "metadata": {
        "id": "view-in-github",
        "colab_type": "text"
      },
      "source": [
        "<a href=\"https://colab.research.google.com/github/CrodriguezCode/TalentoTech/blob/main/ActividadDistanciaDatos_Clustering_ipyn.ipynb\" target=\"_parent\"><img src=\"https://colab.research.google.com/assets/colab-badge.svg\" alt=\"Open In Colab\"/></a>"
      ]
    },
    {
      "cell_type": "markdown",
      "source": [
        "# Distancia euclidiana"
      ],
      "metadata": {
        "id": "sF18ja3V9I6E"
      }
    },
    {
      "cell_type": "code",
      "source": [
        "# distancia entre dos puento de un espacio euclidiano\n",
        "#Es la distancia entre dos puntos de un espacio euclidiano. Para\n",
        "#dos puntos (x1, y1) y (x2, y2) la distancia se calcula como:\n",
        "import sympy as sp\n",
        "import matplotlib.pyplot as plt\n",
        "\n",
        "x1, y1, x2, y2 = sp.symbols('x1 y1 x2 y2')\n",
        "distancia = sp.sqrt((x2 - x1)**2 + (y2 - y1)**2)\n",
        "sp.pprint(distancia)\n"
      ],
      "metadata": {
        "colab": {
          "base_uri": "https://localhost:8080/"
        },
        "id": "uCD3p2hkBHFy",
        "outputId": "c7512c7c-0014-4782-a634-8cc3dba605bf"
      },
      "execution_count": null,
      "outputs": [
        {
          "output_type": "stream",
          "name": "stdout",
          "text": [
            "   ___________________________\n",
            "  ╱           2             2 \n",
            "╲╱  (-x₁ + x₂)  + (-y₁ + y₂)  \n"
          ]
        }
      ]
    },
    {
      "cell_type": "code",
      "execution_count": null,
      "metadata": {
        "colab": {
          "base_uri": "https://localhost:8080/"
        },
        "id": "sFAXYprL81Fu",
        "outputId": "f482ff22-ec1f-4d95-89d3-ef0c5d63e5ad"
      },
      "outputs": [
        {
          "output_type": "stream",
          "name": "stdout",
          "text": [
            "La distancia euclidiana entre p1 y p2 es: 2.8284271247461903\n"
          ]
        }
      ],
      "source": [
        "\n",
        "\n",
        "def distancia(p1,p2):\n",
        "    return ((p1[0]-p2[0])**2 + (p1[1]-p2[1])**2)**0.5\n",
        "p1 = (1,2)\n",
        "p2 = (3,4)\n",
        "print(\"La distancia euclidiana entre p1 y p2 es:\",distancia(p1,p2))"
      ]
    },
    {
      "cell_type": "markdown",
      "source": [
        "# Distancia Manhattan"
      ],
      "metadata": {
        "id": "XZdENxE09y1h"
      }
    },
    {
      "cell_type": "code",
      "source": [
        "# Distancia Manhattan:\n",
        "#Esta distancia se calcula teniendo en cuenta las diferencias\n",
        "#absolutas entre las coordenadas de dos puntos, es decir, se\n",
        "#inspira en las ciudades que están construidas por cuadras y\n",
        "#para ir de un punto a otro se debe recorrer externamente cada\n",
        "#cuadra en lugar de pasar en medio de ellas (lo que se calcularía\n",
        "#con la distancia euclidiana).\n",
        "\n",
        "def distancia_manhattan(p1,p2):\n",
        "    return abs(p1[0]-p2[0]) + abs(p1[1]-p2[1])\n",
        "\n",
        "p1 = (1,2)\n",
        "p2 = (3,4)\n",
        "print(\"La distancia Manhattan entre p1 y p2 es:\",distancia_manhattan(p1,p2))"
      ],
      "metadata": {
        "colab": {
          "base_uri": "https://localhost:8080/"
        },
        "id": "PZtF6XB_93oZ",
        "outputId": "a38eea44-4dbf-4e80-f843-c6ad4ee39cc4"
      },
      "execution_count": null,
      "outputs": [
        {
          "output_type": "stream",
          "name": "stdout",
          "text": [
            "La distancia Manhattan entre p1 y p2 es: 4\n"
          ]
        }
      ]
    },
    {
      "cell_type": "markdown",
      "source": [
        "# Distancia de Hamming"
      ],
      "metadata": {
        "id": "gpQxTZDq-QXv"
      }
    },
    {
      "cell_type": "code",
      "source": [
        "# Distancia de Hamming:\n",
        "#Es empleada para calcular la diferencia entre dos secuencias de\n",
        "#igual longitud. Se cuenta el número de posiciones en las cuales\n",
        "#los símbolos correspondientes son diferentes.\n",
        "\n",
        "def hamming_distance(str1, str2):\n",
        "  \"\"\"Calcula la distancia de Hamming entre dos cadenas de igual longitud.\n",
        "\n",
        "  Args:\n",
        "    str1: La primera cadena.\n",
        "    str2: La segunda cadena.\n",
        "\n",
        "  Returns:\n",
        "    La distancia de Hamming.\n",
        "  \"\"\"\n",
        "\n",
        "  if len(str1) != len(str2):\n",
        "    raise ValueError(\"Las cadenas deben tener la misma longitud.\")\n",
        "\n",
        "  return sum(c1 != c2 for c1, c2 in zip(str1, str2))\n",
        "\n",
        "# Ejemplo de uso:\n",
        "str1 = \"karolin\"\n",
        "str2 = \"kathrin\"\n",
        "distance = hamming_distance(str1, str2)\n",
        "print(distance)  # Output: 3"
      ],
      "metadata": {
        "colab": {
          "base_uri": "https://localhost:8080/"
        },
        "id": "VPWRZtyu-XfX",
        "outputId": "87f03a6b-4348-4afc-ddcf-4da6446d0461"
      },
      "execution_count": null,
      "outputs": [
        {
          "output_type": "stream",
          "name": "stdout",
          "text": [
            "3\n"
          ]
        }
      ]
    },
    {
      "cell_type": "markdown",
      "source": [
        "# Distancia de Chebyshev"
      ],
      "metadata": {
        "id": "DXWpUkds_HmV"
      }
    },
    {
      "cell_type": "code",
      "source": [
        "#Esta distancia se define como la mayor diferencia entre las\n",
        "#coordenadas de los puntos en cada dimensión. Para dos puntos\n",
        "#(x1, y1), (x2, y2) se calcula como\n",
        "\n",
        "#max(|x1-x2|, |y1-y2|)\n",
        "\n",
        "def distancia_chebyshev(p1,p2):\n",
        "    return max(abs(p1[0]-p2[0]), abs(p1[1]-p2[1]))\n",
        "\n",
        "p1 = (1,2)\n",
        "p2 = (3,4)\n",
        "print(\"La distancia de Chebyshev entre p1 y p2 es:\",distancia_chebyshev(p1,p2))\n",
        "#"
      ],
      "metadata": {
        "colab": {
          "base_uri": "https://localhost:8080/"
        },
        "id": "DMurzmpU_Juc",
        "outputId": "d9f8131d-2ccf-47b0-8014-3cbad4ada16e"
      },
      "execution_count": null,
      "outputs": [
        {
          "output_type": "stream",
          "name": "stdout",
          "text": [
            "La distancia de Chebyshev entre p1 y p2 es: 2\n"
          ]
        }
      ]
    },
    {
      "cell_type": "markdown",
      "source": [
        "# Distancia de Canberra"
      ],
      "metadata": {
        "id": "bO-J3sGX_Rls"
      }
    },
    {
      "cell_type": "code",
      "source": [
        "#es una medida ponderada que se emplea en análisis\n",
        "#multivariado. Permite estimar diferencias cuando las variables\n",
        "#tienen diferentes escalas. Para dos vectores X y Y, la distancia\n",
        "#se calcula como:\n",
        "\n",
        "def distancia_canberra(p1,p2):\n",
        "    return sum(abs(p1[i]-p2[i])/(abs(p1[i])+abs(p2[i])) for i in range(len(p1)))\n",
        "\n",
        "p1 = (1,2)\n",
        "p2 = (10,20)\n",
        "print(\"La distancia de Canberra entre p1 y p2 es:\",distancia_canberra(p1,p2))\n"
      ],
      "metadata": {
        "colab": {
          "base_uri": "https://localhost:8080/"
        },
        "id": "9DlNmC3c_Tj8",
        "outputId": "f62ac0f8-69f2-4516-b9e4-25e3aedf19ec"
      },
      "execution_count": null,
      "outputs": [
        {
          "output_type": "stream",
          "name": "stdout",
          "text": [
            "La distancia de Canberra entre p1 y p2 es: 1.6363636363636365\n"
          ]
        }
      ]
    },
    {
      "cell_type": "markdown",
      "source": [
        "# Distancia Coseno"
      ],
      "metadata": {
        "id": "BwVV-4Pn_eNj"
      }
    },
    {
      "cell_type": "code",
      "source": [
        "#Mide el coseno del ángulo entre dos vectores en un espacio\n",
        "#multidimensional. Se emplea para calcular la diferencia entre\n",
        "#conceptos en modelos de análisis de textos. Por ejemplo, con la\n",
        "#distancia coseno es posible calcular las diferencias que hay\n",
        "#entre ideas como hombre – mujer, y esta distancia debe ser\n",
        "#similar a la que existe entre rey – reina. Con esto, los modelos\n",
        "#de lenguaje tienen una codificación que ayuda al entendimiento\n",
        "#de las palabras. Se calcula como:\n",
        "\n",
        "import numpy as np\n",
        "\n",
        "def cosine_similarity(v1, v2):\n",
        "  \"\"\"\n",
        "  Calcula la similitud del coseno entre dos vectores.\n",
        "\n",
        "  Args:\n",
        "    v1: El primer vector.\n",
        "    v2: El segundo vector.\n",
        "\n",
        "  Returns:\n",
        "    La similitud del coseno entre los dos vectores.\n",
        "  \"\"\"\n",
        "\n",
        "  # Calcula el producto punto de los vectores\n",
        "  dot_product = np.dot(v1, v2)\n",
        "\n",
        "  # Calcula las normas (magnitudes) de los vectores\n",
        "  norm_v1 = np.linalg.norm(v1)\n",
        "  norm_v2 = np.linalg.norm(v2)\n",
        "\n",
        "  # Calcula la similitud del coseno\n",
        "  cosine_similarity = dot_product / (norm_v1 * norm_v2)\n",
        "\n",
        "  return cosine_similarity\n",
        "\n",
        "# Ejemplo de uso:\n",
        "vector1 = np.array([1, 2, 3])\n",
        "vector2 = np.array([4, 5, 6])\n",
        "\n",
        "similarity = cosine_similarity(vector1, vector2)\n",
        "print(\"La similitud del coseno es:\", similarity)"
      ],
      "metadata": {
        "colab": {
          "base_uri": "https://localhost:8080/"
        },
        "id": "AO3LZgPv_fVT",
        "outputId": "0e8816d6-2043-4cbe-a87a-40f6c7a95b9c"
      },
      "execution_count": null,
      "outputs": [
        {
          "output_type": "stream",
          "name": "stdout",
          "text": [
            "La similitud del coseno es: 0.9746318461970762\n"
          ]
        }
      ]
    },
    {
      "cell_type": "markdown",
      "source": [
        "# Distancia de Jaccard"
      ],
      "metadata": {
        "id": "hbCImkgV_8Jy"
      }
    },
    {
      "cell_type": "code",
      "source": [
        "#Se emplea para medir qué tan similares son dos conjuntos,\n",
        "#generalmente binarios. Es la relación entre el número de\n",
        "#elementos comunes entre dos conjuntos y el número total de\n",
        "#elementos en los conjuntos.\n",
        "\n",
        "def jaccard_distance(set1, set2):\n",
        "  \"\"\"\n",
        "  Calcula la distancia de Jaccard entre dos conjuntos binarios.\n",
        "\n",
        "  Args:\n",
        "    set1: El primer conjunto binario (un objeto set en Python).\n",
        "    set2: El segundo conjunto binario (un objeto set en Python).\n",
        "\n",
        "  Returns:\n",
        "    La distancia de Jaccard entre los dos conjuntos.\n",
        "  \"\"\"\n",
        "\n",
        "  # Intersección de los conjuntos\n",
        "  intersection = set1.intersection(set2)\n",
        "  # Unión de los conjuntos\n",
        "  union = set1.union(set2)\n",
        "\n",
        "  # Calculamos la distancia de Jaccard\n",
        "  jaccard_distance = 1 - (len(intersection) / len(union))\n",
        "  return jaccard_distance\n",
        "\n",
        "# Ejemplo de uso:\n",
        "set_A = {1, 2, 3}\n",
        "set_B = {8, 2, 3}\n",
        "\n",
        "distance = jaccard_distance(set_A, set_B)\n",
        "print(\"La distancia de Jaccard es:\", distance)\n"
      ],
      "metadata": {
        "colab": {
          "base_uri": "https://localhost:8080/"
        },
        "id": "g9dRBZAh__cK",
        "outputId": "043bcc83-c591-4d17-91b9-929c6f3af0d9"
      },
      "execution_count": null,
      "outputs": [
        {
          "output_type": "stream",
          "name": "stdout",
          "text": [
            "La distancia de Jaccard es: 0.5\n"
          ]
        }
      ]
    }
  ]
}
